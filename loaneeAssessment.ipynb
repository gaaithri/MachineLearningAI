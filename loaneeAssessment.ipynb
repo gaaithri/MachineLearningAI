{
 "cells": [
  {
   "cell_type": "markdown",
   "metadata": {},
   "source": [
    "#### import libraries"
   ]
  },
  {
   "cell_type": "code",
   "execution_count": 56,
   "metadata": {},
   "outputs": [],
   "source": [
    "import pandas as pd\n",
    "import numpy as np\n",
    "import matplotlib.pyplot as plt \n",
    "import seaborn as sns \n",
    "\n",
    "pd.set_option('display.max_columns', 50)\n"
   ]
  },
  {
   "cell_type": "code",
   "execution_count": null,
   "metadata": {},
   "outputs": [],
   "source": [
    "import pandas as pd\n",
    "\n",
    "loanDf = pd.read_csv(\"/home/aiml/Upgrad/Assignment2/loan.csv\", sep=',' , encoding=\"ISO-8859-1\" ,engine = 'python' )"
   ]
  },
  {
   "cell_type": "code",
   "execution_count": null,
   "metadata": {},
   "outputs": [],
   "source": [
    "\n",
    "loanDf"
   ]
  },
  {
   "cell_type": "raw",
   "metadata": {},
   "source": [
    "loanDf.dtypes"
   ]
  },
  {
   "cell_type": "code",
   "execution_count": 58,
   "metadata": {},
   "outputs": [
    {
     "name": "stdout",
     "output_type": "stream",
     "text": [
      "<class 'pandas.core.frame.DataFrame'>\n",
      "RangeIndex: 39717 entries, 0 to 39716\n",
      "Data columns (total 36 columns):\n",
      "id                         39717 non-null int64\n",
      "loan_amnt                  39717 non-null int64\n",
      "funded_amnt                39717 non-null int64\n",
      "funded_amnt_inv            39717 non-null float64\n",
      "term                       39717 non-null object\n",
      "int_rate                   39717 non-null object\n",
      "installment                39717 non-null float64\n",
      "grade                      39717 non-null object\n",
      "sub_grade                  39717 non-null object\n",
      "emp_length                 38642 non-null object\n",
      "home_ownership             39717 non-null object\n",
      "annual_inc                 39717 non-null float64\n",
      "verification_status        39717 non-null object\n",
      "issue_d                    39717 non-null object\n",
      "loan_status                39717 non-null object\n",
      "purpose                    39717 non-null object\n",
      "dti                        39717 non-null float64\n",
      "delinq_2yrs                39717 non-null int64\n",
      "open_acc                   39717 non-null int64\n",
      "pub_rec                    39717 non-null int64\n",
      "revol_bal                  39717 non-null int64\n",
      "revol_util                 39667 non-null object\n",
      "total_acc                  39717 non-null int64\n",
      "out_prncp                  39717 non-null float64\n",
      "out_prncp_inv              39717 non-null float64\n",
      "total_pymnt                39717 non-null float64\n",
      "total_pymnt_inv            39717 non-null float64\n",
      "total_rec_prncp            39717 non-null float64\n",
      "total_rec_int              39717 non-null float64\n",
      "total_rec_late_fee         39717 non-null float64\n",
      "recoveries                 39717 non-null float64\n",
      "collection_recovery_fee    39717 non-null float64\n",
      "last_pymnt_d               39646 non-null object\n",
      "last_pymnt_amnt            39717 non-null float64\n",
      "next_pymnt_d               1140 non-null object\n",
      "last_credit_pull_d         39715 non-null object\n",
      "dtypes: float64(14), int64(8), object(14)\n",
      "memory usage: 10.9+ MB\n"
     ]
    }
   ],
   "source": [
    "loanDf .info()"
   ]
  },
  {
   "cell_type": "code",
   "execution_count": 9,
   "metadata": {},
   "outputs": [
    {
     "data": {
      "text/plain": [
       "total_il_high_credit_limit         0\n",
       "bc_util                            0\n",
       "bc_open_to_buy                     0\n",
       "avg_cur_bal                        0\n",
       "acc_open_past_24mths               0\n",
       "inq_last_12m                       0\n",
       "total_cu_tl                        0\n",
       "inq_fi                             0\n",
       "total_rev_hi_lim                   0\n",
       "all_util                           0\n",
       "max_bal_bc                         0\n",
       "open_rv_24m                        0\n",
       "tot_cur_bal                        0\n",
       "open_rv_12m                        0\n",
       "total_bal_il                       0\n",
       "mths_since_rcnt_il                 0\n",
       "open_il_24m                        0\n",
       "mths_since_last_major_derog        0\n",
       "open_il_12m                        0\n",
       "open_il_6m                         0\n",
       "annual_inc_joint                   0\n",
       "dti_joint                          0\n",
       "verification_status_joint          0\n",
       "total_bc_limit                     0\n",
       "tot_coll_amt                       0\n",
       "il_util                            0\n",
       "mo_sin_old_rev_tl_op               0\n",
       "mo_sin_old_il_acct                 0\n",
       "mo_sin_rcnt_tl                     0\n",
       "total_bal_ex_mort                  0\n",
       "                               ...  \n",
       "total_acc                         82\n",
       "mths_since_last_delinq            95\n",
       "last_pymnt_d                     101\n",
       "last_credit_pull_d               106\n",
       "mths_since_last_record           111\n",
       "int_rate                         371\n",
       "earliest_cr_line                 526\n",
       "loan_amnt                        885\n",
       "funded_amnt                     1041\n",
       "revol_util                      1089\n",
       "out_prncp                       1137\n",
       "out_prncp_inv                   1138\n",
       "total_rec_late_fee              1356\n",
       "collection_recovery_fee         2616\n",
       "dti                             2868\n",
       "recoveries                      4040\n",
       "annual_inc                      5318\n",
       "total_rec_prncp                 7976\n",
       "funded_amnt_inv                 8205\n",
       "installment                    15383\n",
       "title                          19613\n",
       "revol_bal                      21711\n",
       "emp_title                      28820\n",
       "last_pymnt_amnt                34930\n",
       "total_rec_int                  35148\n",
       "total_pymnt_inv                37518\n",
       "total_pymnt                    37850\n",
       "url                            39717\n",
       "member_id                      39717\n",
       "id                             39717\n",
       "Length: 108, dtype: int64"
      ]
     },
     "execution_count": 9,
     "metadata": {},
     "output_type": "execute_result"
    }
   ],
   "source": [
    "# data play \n",
    "# identify categorical and  continuous data\n",
    "loanDf.nunique().sort_values() \n"
   ]
  },
  {
   "cell_type": "code",
   "execution_count": 59,
   "metadata": {},
   "outputs": [
    {
     "data": {
      "text/plain": [
       "10000    2833\n",
       "12000    2334\n",
       "5000     2051\n",
       "6000     1908\n",
       "15000    1895\n",
       "20000    1626\n",
       "8000     1586\n",
       "25000    1390\n",
       "4000     1130\n",
       "3000     1030\n",
       "7000     1023\n",
       "16000     827\n",
       "35000     679\n",
       "9000      676\n",
       "18000     643\n",
       "14000     636\n",
       "7500      537\n",
       "2000      524\n",
       "24000     474\n",
       "4800      424\n",
       "2500      405\n",
       "13000     397\n",
       "30000     377\n",
       "9600      353\n",
       "7200      351\n",
       "3500      340\n",
       "1000      301\n",
       "11000     301\n",
       "1500      295\n",
       "3600      292\n",
       "         ... \n",
       "22950       1\n",
       "19250       1\n",
       "17075       1\n",
       "19300       1\n",
       "21575       1\n",
       "8025        1\n",
       "17925       1\n",
       "34525       1\n",
       "10025       1\n",
       "11775       1\n",
       "20450       1\n",
       "21825       1\n",
       "17300       1\n",
       "19650       1\n",
       "15950       1\n",
       "700         1\n",
       "27175       1\n",
       "23425       1\n",
       "14875       1\n",
       "11375       1\n",
       "19875       1\n",
       "7625        1\n",
       "18050       1\n",
       "30500       1\n",
       "10350       1\n",
       "12525       1\n",
       "16675       1\n",
       "6175        1\n",
       "22300       1\n",
       "28750       1\n",
       "Name: loan_amnt, Length: 885, dtype: int64"
      ]
     },
     "execution_count": 59,
     "metadata": {},
     "output_type": "execute_result"
    }
   ],
   "source": [
    "loanDf.loan_amnt.value_counts()"
   ]
  },
  {
   "cell_type": "code",
   "execution_count": 60,
   "metadata": {},
   "outputs": [
    {
     "data": {
      "text/plain": [
       "count    39717.000000\n",
       "mean     11219.443815\n",
       "std       7456.670694\n",
       "min        500.000000\n",
       "5%        2400.000000\n",
       "10%       3200.000000\n",
       "25%       5500.000000\n",
       "50%      10000.000000\n",
       "75%      15000.000000\n",
       "90%      22000.000000\n",
       "95%      25000.000000\n",
       "99%      35000.000000\n",
       "max      35000.000000\n",
       "Name: loan_amnt, dtype: float64"
      ]
     },
     "execution_count": 60,
     "metadata": {},
     "output_type": "execute_result"
    }
   ],
   "source": [
    "loanDf.loan_amnt.describe(percentiles = [0.05, 0.1,0.25,0.5,0.75,0.9,0.95,0.99])"
   ]
  },
  {
   "cell_type": "code",
   "execution_count": 61,
   "metadata": {},
   "outputs": [
    {
     "data": {
      "text/plain": [
       "(1613, 36)"
      ]
     },
     "execution_count": 61,
     "metadata": {},
     "output_type": "execute_result"
    }
   ],
   "source": [
    "loanDf[loanDf.loan_amnt >  25000].shape"
   ]
  },
  {
   "cell_type": "code",
   "execution_count": 62,
   "metadata": {},
   "outputs": [
    {
     "data": {
      "text/plain": [
       "(38104, 36)"
      ]
     },
     "execution_count": 62,
     "metadata": {},
     "output_type": "execute_result"
    }
   ],
   "source": [
    "loanDf[loanDf.loan_amnt <= 25000].shape"
   ]
  },
  {
   "cell_type": "code",
   "execution_count": 25,
   "metadata": {},
   "outputs": [
    {
     "data": {
      "text/plain": [
       "count    3.971700e+04\n",
       "mean     6.896893e+04\n",
       "std      6.379377e+04\n",
       "min      4.000000e+03\n",
       "5%       2.400000e+04\n",
       "10%      3.000000e+04\n",
       "25%      4.040400e+04\n",
       "50%      5.900000e+04\n",
       "75%      8.230000e+04\n",
       "90%      1.160000e+05\n",
       "95%      1.420000e+05\n",
       "99%      2.349994e+05\n",
       "max      6.000000e+06\n",
       "Name: annual_inc, dtype: float64"
      ]
     },
     "execution_count": 25,
     "metadata": {},
     "output_type": "execute_result"
    }
   ],
   "source": [
    "loanDf.annual_inc.describe(percentiles = [0.05, 0.1,0.25,0.5,0.75,0.9,0.95,0.99])"
   ]
  },
  {
   "cell_type": "code",
   "execution_count": 27,
   "metadata": {},
   "outputs": [
    {
     "data": {
      "text/plain": [
       "(398, 36)"
      ]
     },
     "execution_count": 27,
     "metadata": {},
     "output_type": "execute_result"
    }
   ],
   "source": [
    "# outliers in annual income\n",
    "loanDf[loanDf.annual_inc>2.349994e+05].shape "
   ]
  },
  {
   "cell_type": "code",
   "execution_count": 28,
   "metadata": {},
   "outputs": [
    {
     "data": {
      "text/plain": [
       "(39319, 36)"
      ]
     },
     "execution_count": 28,
     "metadata": {},
     "output_type": "execute_result"
    }
   ],
   "source": [
    "loanDf[loanDf.annual_inc<=2.349994e+05].shape "
   ]
  },
  {
   "cell_type": "code",
   "execution_count": 32,
   "metadata": {},
   "outputs": [],
   "source": [
    "# based on purpose loan "
   ]
  },
  {
   "cell_type": "code",
   "execution_count": 33,
   "metadata": {},
   "outputs": [
    {
     "data": {
      "text/plain": [
       "Index(['debt_consolidation', 'credit_card', 'other', 'home_improvement',\n",
       "       'major_purchase', 'small_business', 'car', 'wedding', 'medical',\n",
       "       'moving', 'vacation', 'house', 'educational', 'renewable_energy'],\n",
       "      dtype='object')"
      ]
     },
     "execution_count": 33,
     "metadata": {},
     "output_type": "execute_result"
    }
   ],
   "source": [
    "# df.Year_of_Release.value_counts().index\n",
    "loanDf.purpose.value_counts().index"
   ]
  },
  {
   "cell_type": "code",
   "execution_count": 34,
   "metadata": {},
   "outputs": [
    {
     "data": {
      "text/plain": [
       "<matplotlib.axes._subplots.AxesSubplot at 0x7fe6870faeb8>"
      ]
     },
     "execution_count": 34,
     "metadata": {},
     "output_type": "execute_result"
    },
    {
     "data": {
      "image/png": "[encoded data removed]",
      "text/plain": [
       "<Figure size 1080x360 with 1 Axes>"
      ]
     },
     "metadata": {
      "needs_background": "light"
     },
     "output_type": "display_data"
    }
   ],
   "source": [
    "plt.figure(figsize = (15,5))\n",
    "loanDf.purpose.value_counts().plot(kind = 'bar')"
   ]
  },
  {
   "cell_type": "code",
   "execution_count": 63,
   "metadata": {},
   "outputs": [
    {
     "data": {
      "text/plain": [
       "(array([ 0,  1,  2,  3,  4,  5,  6,  7,  8,  9, 10, 11, 12, 13]),\n",
       " <a list of 14 Text xticklabel objects>)"
      ]
     },
     "execution_count": 63,
     "metadata": {},
     "output_type": "execute_result"
    },
    {
     "data": {
      "image/png": "[encoded data removed]",
      "text/plain": [
       "<Figure size 1080x360 with 1 Axes>"
      ]
     },
     "metadata": {},
     "output_type": "display_data"
    }
   ],
   "source": [
    "# plt.figure(figsize = (15,5))\n",
    "# sns.countplot(df.Year_of_Release, order = df.Year_of_Release.value_counts().index)\n",
    "\n",
    "\n",
    "plt.figure(figsize= (15,5))\n",
    "sns.countplot(loanDf.purpose, order = loanDf.purpose.value_counts().index)\n",
    "plt.xticks(rotation=90)\n"
   ]
  },
  {
   "cell_type": "code",
   "execution_count": null,
   "metadata": {},
   "outputs": [],
   "source": [
    "# verification status \n",
    "plt.figure(figsize= (15,5))\n",
    "sns.countplot(loanDf.purpose, order = loanDf.purpose.value_counts().index)\n",
    "plt.xticks(rotation=90)\n"
   ]
  },
  {
   "cell_type": "code",
   "execution_count": null,
   "metadata": {},
   "outputs": [],
   "source": [
    "loanDf.columns"
   ]
  },
  {
   "cell_type": "code",
   "execution_count": null,
   "metadata": {},
   "outputs": [],
   "source": [
    "corrmat = loanDf[['funded_amnt','funded_amnt_inv', 'annual_inc']]"
   ]
  },
  {
   "cell_type": "code",
   "execution_count": null,
   "metadata": {},
   "outputs": [],
   "source": [
    "\n",
    "ax = sns.heatmap(corrmat, annot = True, cmap=\"Set1\")\n",
    "# sns.palplot(sns.cubehelix_palette(8))\n",
    "top, bottom = ax.get_ylim()\n",
    "ax.set_ylim(top+0.5, bottom-0.5)\n"
   ]
  },
  {
   "cell_type": "code",
   "execution_count": 41,
   "metadata": {},
   "outputs": [
    {
     "data": {
      "text/plain": [
       "434810325"
      ]
     },
     "execution_count": 41,
     "metadata": {},
     "output_type": "execute_result"
    }
   ],
   "source": [
    "loanDf.funded_amnt.sum()"
   ]
  },
  {
   "cell_type": "code",
   "execution_count": null,
   "metadata": {},
   "outputs": [],
   "source": [
    "loanDf."
   ]
  },
  {
   "cell_type": "code",
   "execution_count": 44,
   "metadata": {},
   "outputs": [
    {
     "data": {
      "text/plain": [
       "482704393.92"
      ]
     },
     "execution_count": 44,
     "metadata": {},
     "output_type": "execute_result"
    }
   ],
   "source": [
    "round(loanDf.total_pymnt.sum(),2)"
   ]
  },
  {
   "cell_type": "code",
   "execution_count": 55,
   "metadata": {},
   "outputs": [],
   "source": [
    "import pandas as pd\n",
    "import pandas_profiling\n",
    "profiling_report = pandas_profiling.ProfileReport(loanDf)"
   ]
  },
  {
   "cell_type": "code",
   "execution_count": 54,
   "metadata": {
    "collapsed": true
   },
   "outputs": [
    {
     "ename": "ImportError",
     "evalue": "cannot import name 'GridspecLayout' from 'ipywidgets' (/root/anaconda3/lib/python3.7/site-packages/ipywidgets/__init__.py)",
     "output_type": "error",
     "traceback": [
      "\u001b[0;31m---------------------------------------------------------------------------\u001b[0m",
      "\u001b[0;31mImportError\u001b[0m                               Traceback (most recent call last)",
      "\u001b[0;32m~/anaconda3/lib/python3.7/site-packages/IPython/core/formatters.py\u001b[0m in \u001b[0;36m__call__\u001b[0;34m(self, obj)\u001b[0m\n\u001b[1;32m    343\u001b[0m             \u001b[0mmethod\u001b[0m \u001b[0;34m=\u001b[0m \u001b[0mget_real_method\u001b[0m\u001b[0;34m(\u001b[0m\u001b[0mobj\u001b[0m\u001b[0;34m,\u001b[0m \u001b[0mself\u001b[0m\u001b[0;34m.\u001b[0m\u001b[0mprint_method\u001b[0m\u001b[0;34m)\u001b[0m\u001b[0;34m\u001b[0m\u001b[0;34m\u001b[0m\u001b[0m\n\u001b[1;32m    344\u001b[0m             \u001b[0;32mif\u001b[0m \u001b[0mmethod\u001b[0m \u001b[0;32mis\u001b[0m \u001b[0;32mnot\u001b[0m \u001b[0;32mNone\u001b[0m\u001b[0;34m:\u001b[0m\u001b[0;34m\u001b[0m\u001b[0;34m\u001b[0m\u001b[0m\n\u001b[0;32m--> 345\u001b[0;31m                 \u001b[0;32mreturn\u001b[0m \u001b[0mmethod\u001b[0m\u001b[0;34m(\u001b[0m\u001b[0;34m)\u001b[0m\u001b[0;34m\u001b[0m\u001b[0;34m\u001b[0m\u001b[0m\n\u001b[0m\u001b[1;32m    346\u001b[0m             \u001b[0;32mreturn\u001b[0m \u001b[0;32mNone\u001b[0m\u001b[0;34m\u001b[0m\u001b[0;34m\u001b[0m\u001b[0m\n\u001b[1;32m    347\u001b[0m         \u001b[0;32melse\u001b[0m\u001b[0;34m:\u001b[0m\u001b[0;34m\u001b[0m\u001b[0;34m\u001b[0m\u001b[0m\n",
      "\u001b[0;32m~/anaconda3/lib/python3.7/site-packages/pandas_profiling/profile_report.py\u001b[0m in \u001b[0;36m_repr_html_\u001b[0;34m(self)\u001b[0m\n\u001b[1;32m    371\u001b[0m     \u001b[0;32mdef\u001b[0m \u001b[0m_repr_html_\u001b[0m\u001b[0;34m(\u001b[0m\u001b[0mself\u001b[0m\u001b[0;34m)\u001b[0m\u001b[0;34m:\u001b[0m\u001b[0;34m\u001b[0m\u001b[0;34m\u001b[0m\u001b[0m\n\u001b[1;32m    372\u001b[0m         \u001b[0;34m\"\"\"The ipython notebook widgets user interface gets called by the jupyter notebook.\"\"\"\u001b[0m\u001b[0;34m\u001b[0m\u001b[0;34m\u001b[0m\u001b[0m\n\u001b[0;32m--> 373\u001b[0;31m         \u001b[0mself\u001b[0m\u001b[0;34m.\u001b[0m\u001b[0mto_notebook_iframe\u001b[0m\u001b[0;34m(\u001b[0m\u001b[0;34m)\u001b[0m\u001b[0;34m\u001b[0m\u001b[0;34m\u001b[0m\u001b[0m\n\u001b[0m\u001b[1;32m    374\u001b[0m \u001b[0;34m\u001b[0m\u001b[0m\n\u001b[1;32m    375\u001b[0m     \u001b[0;32mdef\u001b[0m \u001b[0m__repr__\u001b[0m\u001b[0;34m(\u001b[0m\u001b[0mself\u001b[0m\u001b[0;34m)\u001b[0m\u001b[0;34m:\u001b[0m\u001b[0;34m\u001b[0m\u001b[0;34m\u001b[0m\u001b[0m\n",
      "\u001b[0;32m~/anaconda3/lib/python3.7/site-packages/pandas_profiling/profile_report.py\u001b[0m in \u001b[0;36mto_notebook_iframe\u001b[0;34m(self)\u001b[0m\n\u001b[1;32m    343\u001b[0m             \u001b[0mThis\u001b[0m \u001b[0mconstructions\u001b[0m \u001b[0msolves\u001b[0m \u001b[0mproblems\u001b[0m \u001b[0;32mwith\u001b[0m \u001b[0mconflicting\u001b[0m \u001b[0mstylesheets\u001b[0m \u001b[0;32mand\u001b[0m \u001b[0mnavigation\u001b[0m \u001b[0mlinks\u001b[0m\u001b[0;34m.\u001b[0m\u001b[0;34m\u001b[0m\u001b[0;34m\u001b[0m\u001b[0m\n\u001b[1;32m    344\u001b[0m         \"\"\"\n\u001b[0;32m--> 345\u001b[0;31m         from pandas_profiling.report.presentation.flavours.widget.notebook import (\n\u001b[0m\u001b[1;32m    346\u001b[0m             \u001b[0mget_notebook_iframe\u001b[0m\u001b[0;34m,\u001b[0m\u001b[0;34m\u001b[0m\u001b[0;34m\u001b[0m\u001b[0m\n\u001b[1;32m    347\u001b[0m         )\n",
      "\u001b[0;32m~/anaconda3/lib/python3.7/site-packages/pandas_profiling/report/presentation/flavours/widget/__init__.py\u001b[0m in \u001b[0;36m<module>\u001b[0;34m\u001b[0m\n\u001b[1;32m      6\u001b[0m     \u001b[0mWidgetDuplicate\u001b[0m\u001b[0;34m,\u001b[0m\u001b[0;34m\u001b[0m\u001b[0;34m\u001b[0m\u001b[0m\n\u001b[1;32m      7\u001b[0m )\n\u001b[0;32m----> 8\u001b[0;31m from pandas_profiling.report.presentation.flavours.widget.frequency_table import (\n\u001b[0m\u001b[1;32m      9\u001b[0m     \u001b[0mWidgetFrequencyTable\u001b[0m\u001b[0;34m,\u001b[0m\u001b[0;34m\u001b[0m\u001b[0;34m\u001b[0m\u001b[0m\n\u001b[1;32m     10\u001b[0m )\n",
      "\u001b[0;32m~/anaconda3/lib/python3.7/site-packages/pandas_profiling/report/presentation/flavours/widget/frequency_table.py\u001b[0m in \u001b[0;36m<module>\u001b[0;34m\u001b[0m\n\u001b[0;32m----> 1\u001b[0;31m \u001b[0;32mfrom\u001b[0m \u001b[0mipywidgets\u001b[0m \u001b[0;32mimport\u001b[0m \u001b[0mGridspecLayout\u001b[0m\u001b[0;34m,\u001b[0m \u001b[0mVBox\u001b[0m\u001b[0;34m,\u001b[0m \u001b[0mwidgets\u001b[0m\u001b[0;34m\u001b[0m\u001b[0;34m\u001b[0m\u001b[0m\n\u001b[0m\u001b[1;32m      2\u001b[0m \u001b[0;34m\u001b[0m\u001b[0m\n\u001b[1;32m      3\u001b[0m \u001b[0;32mfrom\u001b[0m \u001b[0mpandas_profiling\u001b[0m\u001b[0;34m.\u001b[0m\u001b[0mreport\u001b[0m\u001b[0;34m.\u001b[0m\u001b[0mpresentation\u001b[0m\u001b[0;34m.\u001b[0m\u001b[0mcore\u001b[0m\u001b[0;34m.\u001b[0m\u001b[0mfrequency_table\u001b[0m \u001b[0;32mimport\u001b[0m \u001b[0mFrequencyTable\u001b[0m\u001b[0;34m\u001b[0m\u001b[0;34m\u001b[0m\u001b[0m\n\u001b[1;32m      4\u001b[0m \u001b[0;34m\u001b[0m\u001b[0m\n\u001b[1;32m      5\u001b[0m \u001b[0;34m\u001b[0m\u001b[0m\n",
      "\u001b[0;31mImportError\u001b[0m: cannot import name 'GridspecLayout' from 'ipywidgets' (/root/anaconda3/lib/python3.7/site-packages/ipywidgets/__init__.py)"
     ]
    },
    {
     "data": {
      "text/plain": []
     },
     "execution_count": 54,
     "metadata": {},
     "output_type": "execute_result"
    }
   ],
   "source": [
    "profiling_report"
   ]
  },
  {
   "cell_type": "code",
   "execution_count": null,
   "metadata": {},
   "outputs": [],
   "source": []
  }
 ],
 "metadata": {
  "kernelspec": {
   "display_name": "Python 3",
   "language": "python",
   "name": "python3"
  },
  "language_info": {
   "codemirror_mode": {
    "name": "ipython",
    "version": 3
   },
   "file_extension": ".py",
   "mimetype": "text/x-python",
   "name": "python",
   "nbconvert_exporter": "python",
   "pygments_lexer": "ipython3",
   "version": "3.7.3"
  }
 },
 "nbformat": 4,
 "nbformat_minor": 2
}
